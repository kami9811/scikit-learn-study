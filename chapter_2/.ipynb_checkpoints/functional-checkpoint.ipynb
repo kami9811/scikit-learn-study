{
 "cells": [
  {
   "cell_type": "markdown",
   "id": "cdf63b81-ec24-42c0-8797-ea27dc8b2b9d",
   "metadata": {},
   "source": [
    "# 基本的な実装"
   ]
  },
  {
   "cell_type": "code",
   "execution_count": null,
   "id": "a83c9f62-f4bd-488d-95c5-28cba4640c69",
   "metadata": {},
   "outputs": [],
   "source": [
    "# 必要データ読み込み\n",
    "import numpy as np\n",
    "array = np.loadtxt(\"in.csv\", delimiter=\",\", dtype=\"float\", skiprows=1)\n",
    "x = array[:, 1:3]\n",
    "y = array[:, 3:4]\n",
    "print(x)\n",
    "print(y)"
   ]
  },
  {
   "cell_type": "code",
   "execution_count": null,
   "id": "315ed91a-45b4-4d61-b3a1-e43e3306bd5a",
   "metadata": {},
   "outputs": [],
   "source": []
  }
 ],
 "metadata": {
  "kernelspec": {
   "display_name": "Python 3 (ipykernel)",
   "language": "python",
   "name": "python3"
  },
  "language_info": {
   "codemirror_mode": {
    "name": "ipython",
    "version": 3
   },
   "file_extension": ".py",
   "mimetype": "text/x-python",
   "name": "python",
   "nbconvert_exporter": "python",
   "pygments_lexer": "ipython3",
   "version": "3.9.7"
  }
 },
 "nbformat": 4,
 "nbformat_minor": 5
}
