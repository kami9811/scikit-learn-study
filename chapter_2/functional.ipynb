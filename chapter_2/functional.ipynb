{
 "cells": [
  {
   "cell_type": "markdown",
   "id": "cdf63b81-ec24-42c0-8797-ea27dc8b2b9d",
   "metadata": {},
   "source": [
    "# 基本的な実装"
   ]
  },
  {
   "cell_type": "code",
   "execution_count": 3,
   "id": "a83c9f62-f4bd-488d-95c5-28cba4640c69",
   "metadata": {},
   "outputs": [],
   "source": [
    "# 必要データ読み込み\n",
    "import numpy as np\n",
    "array = np.loadtxt(\"in.csv\", delimiter=\",\", dtype=\"float\", skiprows=1)\n",
    "x = array[:, 1:3]\n",
    "y = array[:, 3:4].ravel()\n",
    "# print(x)\n",
    "# print(y)"
   ]
  },
  {
   "cell_type": "code",
   "execution_count": 25,
   "id": "315ed91a-45b4-4d61-b3a1-e43e3306bd5a",
   "metadata": {},
   "outputs": [],
   "source": [
    "# 訓練データとテストデータの準備\n",
    "from sklearn.model_selection import train_test_split\n",
    "x_train, x_test, y_train, y_test = train_test_split(x, y, test_size=3)"
   ]
  },
  {
   "cell_type": "code",
   "execution_count": 26,
   "id": "f9910656-ed4f-49e0-9ec7-dbc41b5456b0",
   "metadata": {},
   "outputs": [],
   "source": [
    "# アルゴリズムの選択\n",
    "from sklearn import tree  # 決定木\n",
    "clf = tree.DecisionTreeClassifier()"
   ]
  },
  {
   "cell_type": "code",
   "execution_count": 27,
   "id": "cbc8adcd-f185-46d7-b765-2889293004e5",
   "metadata": {},
   "outputs": [
    {
     "data": {
      "text/plain": [
       "DecisionTreeClassifier()"
      ]
     },
     "execution_count": 27,
     "metadata": {},
     "output_type": "execute_result"
    }
   ],
   "source": [
    "# 学習\n",
    "clf.fit(x_train, y_train)"
   ]
  },
  {
   "cell_type": "code",
   "execution_count": 28,
   "id": "9138af3d-3c95-439c-bb20-3edc3f09e105",
   "metadata": {},
   "outputs": [
    {
     "name": "stdout",
     "output_type": "stream",
     "text": [
      "予測結果: [3. 3. 1.]\n"
     ]
    }
   ],
   "source": [
    "# 予測\n",
    "predict = clf.predict(x_test)\n",
    "print(\"予測結果: {}\".format(predict))"
   ]
  },
  {
   "cell_type": "code",
   "execution_count": 22,
   "id": "85be9d0a-ad97-4308-8ded-1b96ec31b663",
   "metadata": {},
   "outputs": [
    {
     "name": "stdout",
     "output_type": "stream",
     "text": [
      "正解率: 0.6666666666666666\n"
     ]
    }
   ],
   "source": [
    "# モデル評価\n",
    "from sklearn.metrics import accuracy_score\n",
    "print(\"正解率: {}\".format(accuracy_score(y_test, predict)))"
   ]
  },
  {
   "cell_type": "code",
   "execution_count": 23,
   "id": "030b99e1-b342-4595-bc00-3e16591e6dd7",
   "metadata": {},
   "outputs": [
    {
     "name": "stdout",
     "output_type": "stream",
     "text": [
      "[3. 1. 2.]\n",
      "[3. 1. 1.]\n"
     ]
    }
   ],
   "source": [
    "print(y_test)\n",
    "print(predict)"
   ]
  },
  {
   "cell_type": "code",
   "execution_count": null,
   "id": "45c4b930-acf3-4cac-8b75-56c95a8dca19",
   "metadata": {},
   "outputs": [],
   "source": []
  },
  {
   "cell_type": "code",
   "execution_count": null,
   "id": "abd056f5-d61d-4ba2-a8e7-01d653149ed2",
   "metadata": {},
   "outputs": [],
   "source": []
  }
 ],
 "metadata": {
  "kernelspec": {
   "display_name": "Python 3 (ipykernel)",
   "language": "python",
   "name": "python3"
  },
  "language_info": {
   "codemirror_mode": {
    "name": "ipython",
    "version": 3
   },
   "file_extension": ".py",
   "mimetype": "text/x-python",
   "name": "python",
   "nbconvert_exporter": "python",
   "pygments_lexer": "ipython3",
   "version": "3.9.7"
  }
 },
 "nbformat": 4,
 "nbformat_minor": 5
}
