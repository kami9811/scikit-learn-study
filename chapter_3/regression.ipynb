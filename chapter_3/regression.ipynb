{
 "cells": [
  {
   "cell_type": "code",
   "execution_count": 43,
   "id": "274fef01-1ece-422c-9857-212d3c7eed36",
   "metadata": {},
   "outputs": [],
   "source": [
    "# 単回帰モデル"
   ]
  },
  {
   "cell_type": "code",
   "execution_count": 44,
   "id": "caf62de8-05d5-42f4-991a-fe4b55bfbe70",
   "metadata": {},
   "outputs": [],
   "source": [
    "%matplotlib inline\n",
    "import matplotlib.pyplot as plt\n",
    "import numpy as np\n",
    "import pandas as pd\n",
    "from sklearn.linear_model import LinearRegression\n",
    "from sklearn.preprocessing import StandardScaler\n",
    "from sklearn.model_selection import train_test_split\n",
    "from sklearn.metrics import mean_squared_error"
   ]
  },
  {
   "cell_type": "code",
   "execution_count": 45,
   "id": "e1667d54-d7dd-4d61-8004-64d294e65cb5",
   "metadata": {},
   "outputs": [],
   "source": [
    "df = pd.read_csv(\"https://archive.ics.uci.edu/ml/machine-learning-databases/housing/housing.data\", header=None, sep=\"\\s+\")"
   ]
  },
  {
   "cell_type": "code",
   "execution_count": 46,
   "id": "0a57aaa1-c008-44b0-a92e-961135f2c42b",
   "metadata": {},
   "outputs": [
    {
     "data": {
      "text/html": [
       "<div>\n",
       "<style scoped>\n",
       "    .dataframe tbody tr th:only-of-type {\n",
       "        vertical-align: middle;\n",
       "    }\n",
       "\n",
       "    .dataframe tbody tr th {\n",
       "        vertical-align: top;\n",
       "    }\n",
       "\n",
       "    .dataframe thead th {\n",
       "        text-align: right;\n",
       "    }\n",
       "</style>\n",
       "<table border=\"1\" class=\"dataframe\">\n",
       "  <thead>\n",
       "    <tr style=\"text-align: right;\">\n",
       "      <th></th>\n",
       "      <th>CRIM</th>\n",
       "      <th>ZN</th>\n",
       "      <th>INDUS</th>\n",
       "      <th>CHAS</th>\n",
       "      <th>NOX</th>\n",
       "      <th>RM</th>\n",
       "      <th>AGE</th>\n",
       "      <th>DIS</th>\n",
       "      <th>RAD</th>\n",
       "      <th>TAX</th>\n",
       "      <th>PTRATIO</th>\n",
       "      <th>B</th>\n",
       "      <th>LSTAT</th>\n",
       "      <th>MEDV</th>\n",
       "    </tr>\n",
       "  </thead>\n",
       "  <tbody>\n",
       "    <tr>\n",
       "      <th>0</th>\n",
       "      <td>0.00632</td>\n",
       "      <td>18.0</td>\n",
       "      <td>2.31</td>\n",
       "      <td>0</td>\n",
       "      <td>0.538</td>\n",
       "      <td>6.575</td>\n",
       "      <td>65.2</td>\n",
       "      <td>4.0900</td>\n",
       "      <td>1</td>\n",
       "      <td>296.0</td>\n",
       "      <td>15.3</td>\n",
       "      <td>396.90</td>\n",
       "      <td>4.98</td>\n",
       "      <td>24.0</td>\n",
       "    </tr>\n",
       "    <tr>\n",
       "      <th>1</th>\n",
       "      <td>0.02731</td>\n",
       "      <td>0.0</td>\n",
       "      <td>7.07</td>\n",
       "      <td>0</td>\n",
       "      <td>0.469</td>\n",
       "      <td>6.421</td>\n",
       "      <td>78.9</td>\n",
       "      <td>4.9671</td>\n",
       "      <td>2</td>\n",
       "      <td>242.0</td>\n",
       "      <td>17.8</td>\n",
       "      <td>396.90</td>\n",
       "      <td>9.14</td>\n",
       "      <td>21.6</td>\n",
       "    </tr>\n",
       "    <tr>\n",
       "      <th>2</th>\n",
       "      <td>0.02729</td>\n",
       "      <td>0.0</td>\n",
       "      <td>7.07</td>\n",
       "      <td>0</td>\n",
       "      <td>0.469</td>\n",
       "      <td>7.185</td>\n",
       "      <td>61.1</td>\n",
       "      <td>4.9671</td>\n",
       "      <td>2</td>\n",
       "      <td>242.0</td>\n",
       "      <td>17.8</td>\n",
       "      <td>392.83</td>\n",
       "      <td>4.03</td>\n",
       "      <td>34.7</td>\n",
       "    </tr>\n",
       "    <tr>\n",
       "      <th>3</th>\n",
       "      <td>0.03237</td>\n",
       "      <td>0.0</td>\n",
       "      <td>2.18</td>\n",
       "      <td>0</td>\n",
       "      <td>0.458</td>\n",
       "      <td>6.998</td>\n",
       "      <td>45.8</td>\n",
       "      <td>6.0622</td>\n",
       "      <td>3</td>\n",
       "      <td>222.0</td>\n",
       "      <td>18.7</td>\n",
       "      <td>394.63</td>\n",
       "      <td>2.94</td>\n",
       "      <td>33.4</td>\n",
       "    </tr>\n",
       "    <tr>\n",
       "      <th>4</th>\n",
       "      <td>0.06905</td>\n",
       "      <td>0.0</td>\n",
       "      <td>2.18</td>\n",
       "      <td>0</td>\n",
       "      <td>0.458</td>\n",
       "      <td>7.147</td>\n",
       "      <td>54.2</td>\n",
       "      <td>6.0622</td>\n",
       "      <td>3</td>\n",
       "      <td>222.0</td>\n",
       "      <td>18.7</td>\n",
       "      <td>396.90</td>\n",
       "      <td>5.33</td>\n",
       "      <td>36.2</td>\n",
       "    </tr>\n",
       "  </tbody>\n",
       "</table>\n",
       "</div>"
      ],
      "text/plain": [
       "      CRIM    ZN  INDUS  CHAS    NOX     RM   AGE     DIS  RAD    TAX  \\\n",
       "0  0.00632  18.0   2.31     0  0.538  6.575  65.2  4.0900    1  296.0   \n",
       "1  0.02731   0.0   7.07     0  0.469  6.421  78.9  4.9671    2  242.0   \n",
       "2  0.02729   0.0   7.07     0  0.469  7.185  61.1  4.9671    2  242.0   \n",
       "3  0.03237   0.0   2.18     0  0.458  6.998  45.8  6.0622    3  222.0   \n",
       "4  0.06905   0.0   2.18     0  0.458  7.147  54.2  6.0622    3  222.0   \n",
       "\n",
       "   PTRATIO       B  LSTAT  MEDV  \n",
       "0     15.3  396.90   4.98  24.0  \n",
       "1     17.8  396.90   9.14  21.6  \n",
       "2     17.8  392.83   4.03  34.7  \n",
       "3     18.7  394.63   2.94  33.4  \n",
       "4     18.7  396.90   5.33  36.2  "
      ]
     },
     "execution_count": 46,
     "metadata": {},
     "output_type": "execute_result"
    }
   ],
   "source": [
    "df.columns = [\"CRIM\", \"ZN\", \"INDUS\", \"CHAS\", \"NOX\", \"RM\", \"AGE\", \"DIS\", \"RAD\", \"TAX\", \"PTRATIO\", \"B\", \"LSTAT\", \"MEDV\"]\n",
    "pd.DataFrame(df.head())"
   ]
  },
  {
   "cell_type": "code",
   "execution_count": 47,
   "id": "9e7d8014-642c-46e7-ad3f-b6d6d8c1e839",
   "metadata": {},
   "outputs": [
    {
     "data": {
      "text/plain": [
       "(506, 14)"
      ]
     },
     "execution_count": 47,
     "metadata": {},
     "output_type": "execute_result"
    }
   ],
   "source": [
    "df.shape"
   ]
  },
  {
   "cell_type": "code",
   "execution_count": 48,
   "id": "98dedf67-9fbc-49f8-979f-a74a687c15e4",
   "metadata": {},
   "outputs": [],
   "source": [
    "size = 500"
   ]
  },
  {
   "cell_type": "code",
   "execution_count": 49,
   "id": "c7e3e2bb-8572-47be-bc54-429a30b1d358",
   "metadata": {},
   "outputs": [
    {
     "data": {
      "text/plain": [
       "(array([[6.575],\n",
       "        [6.421],\n",
       "        [7.185],\n",
       "        [6.998],\n",
       "        [7.147]]),\n",
       " array([24. , 21.6, 34.7, 33.4, 36.2]))"
      ]
     },
     "execution_count": 49,
     "metadata": {},
     "output_type": "execute_result"
    }
   ],
   "source": [
    "X = df[:size][[\"RM\"]].values\n",
    "y = df[:size][\"MEDV\"].values\n",
    "\n",
    "X[:5], y[:5]"
   ]
  },
  {
   "cell_type": "code",
   "execution_count": 50,
   "id": "8b3c342e-a43b-478b-9c0b-ff23af25c933",
   "metadata": {},
   "outputs": [
    {
     "data": {
      "text/plain": [
       "LinearRegression()"
      ]
     },
     "execution_count": 50,
     "metadata": {},
     "output_type": "execute_result"
    }
   ],
   "source": [
    "model = LinearRegression()\n",
    "model.fit(X, y)"
   ]
  },
  {
   "cell_type": "code",
   "execution_count": 51,
   "id": "cc3266f5-caca-4e71-9d82-fcd9d0bbefc5",
   "metadata": {},
   "outputs": [
    {
     "name": "stdout",
     "output_type": "stream",
     "text": [
      "coef: [9.11791639]\n",
      "intercept: -34.719595137981386\n"
     ]
    }
   ],
   "source": [
    "print(\"coef: {}\\nintercept: {}\".format(model.coef_, model.intercept_))"
   ]
  },
  {
   "cell_type": "code",
   "execution_count": 52,
   "id": "9c15c509-a5c8-4e83-b47e-9fcb077b8b4a",
   "metadata": {},
   "outputs": [
    {
     "data": {
      "text/plain": [
       "array([19.9879032])"
      ]
     },
     "execution_count": 52,
     "metadata": {},
     "output_type": "execute_result"
    }
   ],
   "source": [
    "model.predict([[6]])"
   ]
  },
  {
   "cell_type": "code",
   "execution_count": 53,
   "id": "bb361ff6-8acb-41b3-b37b-ec073ac63fc7",
   "metadata": {},
   "outputs": [
    {
     "data": {
      "text/plain": [
       "array([[ 1],\n",
       "       [ 2],\n",
       "       [ 3],\n",
       "       [ 4],\n",
       "       [ 5],\n",
       "       [ 6],\n",
       "       [ 7],\n",
       "       [ 8],\n",
       "       [ 9],\n",
       "       [10],\n",
       "       [11],\n",
       "       [12],\n",
       "       [13],\n",
       "       [14],\n",
       "       [15],\n",
       "       [16],\n",
       "       [17],\n",
       "       [18],\n",
       "       [19]])"
      ]
     },
     "execution_count": 53,
     "metadata": {},
     "output_type": "execute_result"
    }
   ],
   "source": [
    "X_data = np.arange(1, 20, 1)[:, np.newaxis]\n",
    "X_data"
   ]
  },
  {
   "cell_type": "code",
   "execution_count": 54,
   "id": "90ee9160-88b3-4eb6-8a33-1d1f5bac4408",
   "metadata": {},
   "outputs": [
    {
     "data": {
      "image/png": "[encoded data removed]",
      "text/plain": [
       "<Figure size 576x288 with 1 Axes>"
      ]
     },
     "metadata": {
      "needs_background": "light"
     },
     "output_type": "display_data"
    }
   ],
   "source": [
    "plt.figure(figsize=(8, 4))\n",
    "\n",
    "y_pred = model.predict(X_data)\n",
    "plt.scatter(X, y, color=\"blue\", label=\"data\")\n",
    "plt.plot(X_data, y_pred, color=\"red\", linestyle=\"-\", label=\"LinearRegression\")\n",
    "plt.ylabel(\"Price in $1000s [MEDV]\")\n",
    "plt.xlabel(\"Average number of rooms [RM]\")\n",
    "plt.title(\"Boston house-prices\")\n",
    "plt.legend(loc=\"lower right\")\n",
    "\n",
    "plt.show()"
   ]
  },
  {
   "cell_type": "code",
   "execution_count": null,
   "id": "2a9a41cb-9b91-4460-b305-b0ce8ef6e7e7",
   "metadata": {},
   "outputs": [],
   "source": [
    "# 重回帰"
   ]
  },
  {
   "cell_type": "code",
   "execution_count": 25,
   "id": "a87e15fc-0ce0-4b6a-8809-ad305af03a79",
   "metadata": {},
   "outputs": [],
   "source": [
    "X = df.iloc[:, 0:13].values\n",
    "y = df[\"MEDV\"].values"
   ]
  },
  {
   "cell_type": "code",
   "execution_count": 27,
   "id": "96d94515-436f-4956-b4bf-0429d2b9c786",
   "metadata": {},
   "outputs": [],
   "source": [
    "X_train, X_test, y_train, y_test = train_test_split(X, y, test_size=0.2, random_state=0)"
   ]
  },
  {
   "cell_type": "code",
   "execution_count": 28,
   "id": "4d7ae1b6-d2cd-481f-8c6c-1a86654f689c",
   "metadata": {},
   "outputs": [],
   "source": [
    "sc = StandardScaler()"
   ]
  },
  {
   "cell_type": "code",
   "execution_count": 32,
   "id": "f05b7fa8-d780-4d66-9510-8751d981d8f6",
   "metadata": {},
   "outputs": [],
   "source": [
    "X_train_std = sc.fit_transform(X_train)\n",
    "X_test_std = sc.transform(X_test)"
   ]
  },
  {
   "cell_type": "code",
   "execution_count": 33,
   "id": "006681f8-7908-471a-845c-86f03c938a42",
   "metadata": {},
   "outputs": [
    {
     "data": {
      "text/plain": [
       "LinearRegression()"
      ]
     },
     "execution_count": 33,
     "metadata": {},
     "output_type": "execute_result"
    }
   ],
   "source": [
    "model = LinearRegression()\n",
    "model.fit(X_train_std, y_train)"
   ]
  },
  {
   "cell_type": "code",
   "execution_count": 35,
   "id": "0b416dc9-5baf-4832-8817-4f0b742ab39f",
   "metadata": {},
   "outputs": [],
   "source": [
    "y_train_pred = model.predict(X_train_std)\n",
    "y_test_pred = model.predict(X_test_std)"
   ]
  },
  {
   "cell_type": "code",
   "execution_count": 36,
   "id": "49345917-d32a-476e-beca-efa8fe02062b",
   "metadata": {},
   "outputs": [
    {
     "name": "stdout",
     "output_type": "stream",
     "text": [
      "MSE train: 19.326470203585725, MES test: 33.448979997676496\n"
     ]
    }
   ],
   "source": [
    "print(\"MSE train: {}, MES test: {}\".format(np.mean((y_train - y_train_pred) ** 2), np.mean((y_test - y_test_pred) ** 2)))"
   ]
  },
  {
   "cell_type": "code",
   "execution_count": 38,
   "id": "415abdb3-b788-4c86-b66a-fc34fb8efd86",
   "metadata": {},
   "outputs": [
    {
     "name": "stdout",
     "output_type": "stream",
     "text": [
      "MSE train: 19.326470203585725, MES test: 33.448979997676496\n"
     ]
    }
   ],
   "source": [
    "print(\"MSE train: {}, MES test: {}\".format(mean_squared_error(y_train, y_train_pred), mean_squared_error(y_test, y_test_pred)))"
   ]
  },
  {
   "cell_type": "code",
   "execution_count": 41,
   "id": "9532c374-ab61-4829-826d-444cf5557101",
   "metadata": {},
   "outputs": [
    {
     "data": {
      "image/png": "[encoded data removed]",
      "text/plain": [
       "<Figure size 576x288 with 1 Axes>"
      ]
     },
     "metadata": {
      "needs_background": "light"
     },
     "output_type": "display_data"
    }
   ],
   "source": [
    "plt.figure(figsize=(8, 4))\n",
    "\n",
    "plt.scatter(y_train_pred, y_train_pred - y_train,\n",
    "            c=\"red\", marker=\"o\", edgecolor=\"white\",\n",
    "            label=\"Training data\")\n",
    "plt.scatter(y_test_pred, y_test_pred - y_test,\n",
    "            c=\"blue\", marker=\"s\", edgecolor=\"white\",\n",
    "            label=\"Test data\")\n",
    "plt.xlabel(\"Predicted values\")\n",
    "plt.ylabel(\"Residuals\")\n",
    "plt.legend(loc=\"upper left\")\n",
    "plt.hlines(y=0, xmin=-10, xmax=50, color=\"black\", lw=2)\n",
    "plt.xlim([-10, 50])\n",
    "plt.tight_layout()\n",
    "\n",
    "plt.show()"
   ]
  },
  {
   "cell_type": "code",
   "execution_count": 55,
   "id": "b846cfd4-8944-41bb-b118-82455f4db5d2",
   "metadata": {},
   "outputs": [],
   "source": [
    "# 多項式回帰"
   ]
  },
  {
   "cell_type": "code",
   "execution_count": 56,
   "id": "fdb8f458-7009-4041-985a-a01d0ef67ad8",
   "metadata": {},
   "outputs": [],
   "source": [
    "import numpy as np\n",
    "from sklearn.preprocessing import PolynomialFeatures"
   ]
  },
  {
   "cell_type": "code",
   "execution_count": 91,
   "id": "93f75414-43e3-4d67-916b-434f8a9a4558",
   "metadata": {},
   "outputs": [],
   "source": [
    "X = [[2, 6]]"
   ]
  },
  {
   "cell_type": "code",
   "execution_count": 95,
   "id": "f4add4d6-98b6-45bc-a6b0-7e5f4181d09b",
   "metadata": {},
   "outputs": [
    {
     "data": {
      "text/plain": [
       "array([[ 2.,  6.,  4., 12., 36.]])"
      ]
     },
     "execution_count": 95,
     "metadata": {},
     "output_type": "execute_result"
    }
   ],
   "source": [
    "poly = PolynomialFeatures(degree=2, include_bias=False)\n",
    "X_poly = poly.fit_transform(X)\n",
    "X_poly"
   ]
  },
  {
   "cell_type": "code",
   "execution_count": 66,
   "id": "e4ef2186-99fd-4ad5-93f9-368e97e77ab4",
   "metadata": {},
   "outputs": [],
   "source": [
    "%matplotlib inline\n",
    "import matplotlib.pyplot as plt\n",
    "import numpy as np\n",
    "from sklearn.linear_model import LinearRegression\n",
    "from sklearn.preprocessing import PolynomialFeatures"
   ]
  },
  {
   "cell_type": "code",
   "execution_count": 67,
   "id": "267fca32-7cdb-4e9b-b17c-36314112e383",
   "metadata": {},
   "outputs": [],
   "source": [
    "# sin関数予測"
   ]
  },
  {
   "cell_type": "code",
   "execution_count": 84,
   "id": "66a605da-5d08-4502-b0e7-ff61ec684251",
   "metadata": {},
   "outputs": [],
   "source": [
    "SIZE = 100"
   ]
  },
  {
   "cell_type": "code",
   "execution_count": 87,
   "id": "32c13a1e-5163-4971-a48e-7cd05fee794e",
   "metadata": {},
   "outputs": [],
   "source": [
    "np.random.seed(seed=8)\n",
    "X = np.random.uniform(0, 4, SIZE)[:, np.newaxis]\n",
    "y = np.sin(1/4 * 2 * np.pi * X).ravel() + np.random.normal(0, 0.3, SIZE)"
   ]
  },
  {
   "cell_type": "code",
   "execution_count": 88,
   "id": "9ad9127e-9549-4e73-90d9-06b22bb47b77",
   "metadata": {},
   "outputs": [],
   "source": [
    "poly = PolynomialFeatures(degree=3, include_bias=False)\n",
    "X_poly = poly.fit_transform(X)"
   ]
  },
  {
   "cell_type": "code",
   "execution_count": 89,
   "id": "d27e6a4a-e7d3-4f50-ba89-c5fc9d5358cf",
   "metadata": {},
   "outputs": [
    {
     "data": {
      "text/plain": [
       "LinearRegression()"
      ]
     },
     "execution_count": 89,
     "metadata": {},
     "output_type": "execute_result"
    }
   ],
   "source": [
    "model = LinearRegression()\n",
    "model.fit(X_poly, y)"
   ]
  },
  {
   "cell_type": "code",
   "execution_count": 90,
   "id": "57788802-5e48-4fcb-99bf-40bbe1b22e8a",
   "metadata": {},
   "outputs": [
    {
     "data": {
      "image/png": "[encoded data removed]",
      "text/plain": [
       "<Figure size 576x288 with 1 Axes>"
      ]
     },
     "metadata": {
      "needs_background": "light"
     },
     "output_type": "display_data"
    }
   ],
   "source": [
    "plt.figure(figsize=(8, 4))\n",
    "\n",
    "X_plt = np.arange(0, 4, 0.1)[:, np.newaxis]\n",
    "y_true = np.sin(1/4 * 2 * np.pi * X_plt).ravel()\n",
    "y_pred = model.predict(poly.transform(X_plt))\n",
    "\n",
    "plt.scatter(X, y, c=\"blue\", label=\"data\")\n",
    "plt.plot(X_plt, y_true, color=\"lime\", linestyle=\"-\", label=\"True sin(X)\")\n",
    "plt.plot(X_plt, y_pred, color=\"red\", linestyle=\"-\", label=\"Linear Regression\")\n",
    "plt.legend(loc=\"upper right\")\n",
    "\n",
    "plt.show()"
   ]
  },
  {
   "cell_type": "code",
   "execution_count": 96,
   "id": "2b4ae9a2-e483-4468-b974-189f19c5eaad",
   "metadata": {},
   "outputs": [],
   "source": [
    "# 住宅の多項式回帰"
   ]
  },
  {
   "cell_type": "code",
   "execution_count": 101,
   "id": "4055c6ef-f6c5-433e-b25a-48d82d0ead05",
   "metadata": {},
   "outputs": [
    {
     "data": {
      "text/plain": [
       "array([[6.7240e-02, 0.0000e+00, 3.2400e+00, ..., 1.6900e+01, 3.7521e+02,\n",
       "        7.3400e+00],\n",
       "       [9.2323e+00, 0.0000e+00, 1.8100e+01, ..., 2.0200e+01, 3.6615e+02,\n",
       "        9.5300e+00],\n",
       "       [1.1425e-01, 0.0000e+00, 1.3890e+01, ..., 1.6400e+01, 3.9374e+02,\n",
       "        1.0500e+01],\n",
       "       ...,\n",
       "       [1.4932e-01, 2.5000e+01, 5.1300e+00, ..., 1.9700e+01, 3.9511e+02,\n",
       "        1.3150e+01],\n",
       "       [1.4052e-01, 0.0000e+00, 1.0590e+01, ..., 1.8600e+01, 3.8581e+02,\n",
       "        9.3800e+00],\n",
       "       [1.2802e-01, 0.0000e+00, 8.5600e+00, ..., 2.0900e+01, 3.9524e+02,\n",
       "        1.2270e+01]])"
      ]
     },
     "execution_count": 101,
     "metadata": {},
     "output_type": "execute_result"
    }
   ],
   "source": [
    "X = df.iloc[:, :13].values\n",
    "y = df[\"MEDV\"].values\n",
    "\n",
    "X_train, X_test, y_train, y_test = train_test_split(X, y, test_size=0.2, random_state=0)\n",
    "X_test"
   ]
  },
  {
   "cell_type": "code",
   "execution_count": 102,
   "id": "5d70d4f2-fffc-4cf5-a989-b399bda74d2e",
   "metadata": {},
   "outputs": [],
   "source": [
    "poly = PolynomialFeatures(degree=2, include_bias=False)\n",
    "X_train_poly = poly.fit_transform(X_train)\n",
    "X_test_poly = poly.transform(X_test)"
   ]
  },
  {
   "cell_type": "code",
   "execution_count": 104,
   "id": "84acb3b2-bbb3-476d-80a1-626ef21f1eb9",
   "metadata": {},
   "outputs": [],
   "source": [
    "sc = StandardScaler()\n",
    "X_train_std = sc.fit_transform(X_train_poly)\n",
    "X_test_std = sc.transform(X_test_poly)"
   ]
  },
  {
   "cell_type": "code",
   "execution_count": 101,
   "id": "f24e5f85-38d5-4680-b752-439dc1f545e2",
   "metadata": {},
   "outputs": [
    {
     "data": {
      "text/plain": [
       "array([[6.7240e-02, 0.0000e+00, 3.2400e+00, ..., 1.6900e+01, 3.7521e+02,\n",
       "        7.3400e+00],\n",
       "       [9.2323e+00, 0.0000e+00, 1.8100e+01, ..., 2.0200e+01, 3.6615e+02,\n",
       "        9.5300e+00],\n",
       "       [1.1425e-01, 0.0000e+00, 1.3890e+01, ..., 1.6400e+01, 3.9374e+02,\n",
       "        1.0500e+01],\n",
       "       ...,\n",
       "       [1.4932e-01, 2.5000e+01, 5.1300e+00, ..., 1.9700e+01, 3.9511e+02,\n",
       "        1.3150e+01],\n",
       "       [1.4052e-01, 0.0000e+00, 1.0590e+01, ..., 1.8600e+01, 3.8581e+02,\n",
       "        9.3800e+00],\n",
       "       [1.2802e-01, 0.0000e+00, 8.5600e+00, ..., 2.0900e+01, 3.9524e+02,\n",
       "        1.2270e+01]])"
      ]
     },
     "execution_count": 101,
     "metadata": {},
     "output_type": "execute_result"
    }
   ],
   "source": [
    "X = df.iloc[:, :13].values\n",
    "y = df[\"MEDV\"].values\n",
    "\n",
    "X_train, X_test, y_train, y_test = train_test_split(X, y, test_size=0.2, random_state=0)\n",
    "X_test"
   ]
  },
  {
   "cell_type": "code",
   "execution_count": 102,
   "id": "3aaedc51-bc02-47de-9465-286a9d01d282",
   "metadata": {},
   "outputs": [],
   "source": [
    "poly = PolynomialFeatures(degree=2, include_bias=False)\n",
    "X_train_poly = poly.fit_transform(X_train)\n",
    "X_test_poly = poly.transform(X_test)"
   ]
  },
  {
   "cell_type": "code",
   "execution_count": 104,
   "id": "93ad96e3-51d6-49d2-9594-0b6565f85e0b",
   "metadata": {},
   "outputs": [],
   "source": [
    "sc = StandardScaler()\n",
    "X_train_std = sc.fit_transform(X_train_poly)\n",
    "X_test_std = sc.transform(X_test_poly)"
   ]
  },
  {
   "cell_type": "code",
   "execution_count": 105,
   "id": "5650b62f-74d4-4c44-9162-1638db484cf2",
   "metadata": {},
   "outputs": [
    {
     "data": {
      "text/plain": [
       "LinearRegression()"
      ]
     },
     "execution_count": 105,
     "metadata": {},
     "output_type": "execute_result"
    }
   ],
   "source": [
    "model = LinearRegression()\n",
    "model.fit(X_train_std, y_train)"
   ]
  },
  {
   "cell_type": "code",
   "execution_count": 107,
   "id": "ccdd757a-f8f4-4428-9568-ed60454a997c",
   "metadata": {},
   "outputs": [
    {
     "data": {
      "text/plain": [
       "(4.340278052012233, 31.277814971444794)"
      ]
     },
     "execution_count": 107,
     "metadata": {},
     "output_type": "execute_result"
    }
   ],
   "source": [
    "y_train_pred = model.predict(X_train_std)\n",
    "y_test_pred = model.predict(X_test_std)\n",
    "\n",
    "mean_squared_error(y_train, y_train_pred), mean_squared_error(y_test, y_test_pred)"
   ]
  },
  {
   "cell_type": "code",
   "execution_count": 108,
   "id": "320e61a3-d2d7-4f44-a03e-12ed8e80a8f5",
   "metadata": {},
   "outputs": [],
   "source": [
    "# Ridge回帰（Polynomial 6-order）"
   ]
  },
  {
   "cell_type": "code",
   "execution_count": 109,
   "id": "3a7de7b9-1fa9-474b-9a3b-70fce94be0b3",
   "metadata": {},
   "outputs": [],
   "source": [
    "SIZE = 15"
   ]
  },
  {
   "cell_type": "code",
   "execution_count": 110,
   "id": "6c5071ec-5a9c-4da4-930d-583dd661ddaf",
   "metadata": {},
   "outputs": [],
   "source": [
    "np.random.seed(seed=8)\n",
    "X = np.random.uniform(0, 4, SIZE)[:, np.newaxis]\n",
    "y = np.sin(1/4 * 2 * np.pi * X).ravel() + np.random.normal(0, 0.3, SIZE)\n",
    "poly = PolynomialFeatures(degree=6, include_bias=False)\n",
    "X_poly = poly.fit_transform(X)"
   ]
  },
  {
   "cell_type": "code",
   "execution_count": 111,
   "id": "ca03615b-6e5f-4d39-965e-945193a20c1e",
   "metadata": {},
   "outputs": [],
   "source": [
    "from sklearn.linear_model import Ridge"
   ]
  },
  {
   "cell_type": "code",
   "execution_count": 119,
   "id": "1e01098e-5283-494d-b057-2aaf58f3f30d",
   "metadata": {},
   "outputs": [],
   "source": [
    "# alpha = 0.1\n",
    "alpha = 0.00001"
   ]
  },
  {
   "cell_type": "code",
   "execution_count": 120,
   "id": "ca87c6f0-5459-42c3-ba84-ef601c3d4571",
   "metadata": {},
   "outputs": [],
   "source": [
    "model = LinearRegression()\n",
    "model_r = Ridge(alpha=alpha)"
   ]
  },
  {
   "cell_type": "code",
   "execution_count": 121,
   "id": "d7f9bab1-d319-4edc-936e-3b71a663ecd4",
   "metadata": {},
   "outputs": [
    {
     "data": {
      "text/plain": [
       "LinearRegression()"
      ]
     },
     "execution_count": 121,
     "metadata": {},
     "output_type": "execute_result"
    }
   ],
   "source": [
    "model.fit(X_poly, y)"
   ]
  },
  {
   "cell_type": "code",
   "execution_count": 122,
   "id": "e1f4577b-3a54-4cfd-b1a7-95eef4d52929",
   "metadata": {},
   "outputs": [
    {
     "data": {
      "text/plain": [
       "Ridge(alpha=1e-05)"
      ]
     },
     "execution_count": 122,
     "metadata": {},
     "output_type": "execute_result"
    }
   ],
   "source": [
    "model_r.fit(X_poly, y)"
   ]
  },
  {
   "cell_type": "code",
   "execution_count": 123,
   "id": "eb0b3b3c-3e99-4fca-947e-3e69977d3251",
   "metadata": {},
   "outputs": [
    {
     "data": {
      "image/png": "[encoded data removed]",
      "text/plain": [
       "<Figure size 576x288 with 1 Axes>"
      ]
     },
     "metadata": {
      "needs_background": "light"
     },
     "output_type": "display_data"
    }
   ],
   "source": [
    "plt.figure(figsize=(8, 4))\n",
    "\n",
    "x_plt = np.arange(0, 4, 0.1)[:, np.newaxis]\n",
    "y_true = np.sin(1/4 * 2 * np.pi * X_plt).ravel()\n",
    "y_pred = model.predict(poly.transform(X_plt))\n",
    "y_pred_r = model_r.predict(poly.transform(X_plt))\n",
    "\n",
    "plt.scatter(X, y, color=\"blue\", label=\"data\")\n",
    "plt.plot(X_plt, y_true, color=\"lime\", linestyle=\"-\", label=\"True sin(X)\")\n",
    "plt.plot(X_plt, y_pred, color=\"red\", linestyle=\"-\", label=\"LinearRegressinon\")\n",
    "plt.plot(X_plt, y_pred_r, color=\"blue\", linestyle=\"--\", label=\"Ridge\")\n",
    "plt.legend(loc=\"upper right\")\n",
    "           \n",
    "plt.show()"
   ]
  },
  {
   "cell_type": "code",
   "execution_count": 124,
   "id": "3210535e-6b34-40b6-a283-d5d61367791d",
   "metadata": {},
   "outputs": [],
   "source": [
    "# Lasso"
   ]
  },
  {
   "cell_type": "code",
   "execution_count": 128,
   "id": "ee1814a3-bb5a-4b01-906c-c2ae9af3de05",
   "metadata": {},
   "outputs": [],
   "source": [
    "from sklearn.linear_model import Lasso"
   ]
  },
  {
   "cell_type": "code",
   "execution_count": 129,
   "id": "4d93f72b-10b5-4f46-b3d1-2907b0ced424",
   "metadata": {},
   "outputs": [],
   "source": [
    "model = LinearRegression()"
   ]
  },
  {
   "cell_type": "code",
   "execution_count": 130,
   "id": "d77c9d19-12ec-46be-b964-89bbfa1d2ea8",
   "metadata": {},
   "outputs": [],
   "source": [
    "alpha = 0.1"
   ]
  },
  {
   "cell_type": "code",
   "execution_count": 131,
   "id": "6d0801fc-085e-4015-81a8-6becff983e2c",
   "metadata": {},
   "outputs": [],
   "source": [
    "model_l = Lasso(alpha=alpha)"
   ]
  },
  {
   "cell_type": "code",
   "execution_count": null,
   "id": "16e0f25f-60d7-410a-bc0a-c91eb7e64cdd",
   "metadata": {},
   "outputs": [
    {
     "data": {
      "text/plain": [
       "(404, 104)"
      ]
     },
     "execution_count": 133,
     "metadata": {},
     "output_type": "execute_result"
    }
   ],
   "source": [
    "X_train_std.shape"
   ]
  },
  {
   "cell_type": "code",
   "execution_count": 138,
   "id": "2e6cc094-da63-4a82-9e9a-5f1dd2f419c9",
   "metadata": {},
   "outputs": [
    {
     "data": {
      "text/plain": [
       "array([[6.7240e-02, 0.0000e+00, 3.2400e+00, ..., 1.6900e+01, 3.7521e+02,\n",
       "        7.3400e+00],\n",
       "       [9.2323e+00, 0.0000e+00, 1.8100e+01, ..., 2.0200e+01, 3.6615e+02,\n",
       "        9.5300e+00],\n",
       "       [1.1425e-01, 0.0000e+00, 1.3890e+01, ..., 1.6400e+01, 3.9374e+02,\n",
       "        1.0500e+01],\n",
       "       ...,\n",
       "       [1.4932e-01, 2.5000e+01, 5.1300e+00, ..., 1.9700e+01, 3.9511e+02,\n",
       "        1.3150e+01],\n",
       "       [1.4052e-01, 0.0000e+00, 1.0590e+01, ..., 1.8600e+01, 3.8581e+02,\n",
       "        9.3800e+00],\n",
       "       [1.2802e-01, 0.0000e+00, 8.5600e+00, ..., 2.0900e+01, 3.9524e+02,\n",
       "        1.2270e+01]])"
      ]
     },
     "execution_count": 138,
     "metadata": {},
     "output_type": "execute_result"
    }
   ],
   "source": [
    "X = df.iloc[:, :13].values\n",
    "y = df[\"MEDV\"].values\n",
    "\n",
    "X_train, X_test, y_train, y_test = train_test_split(X, y, test_size=0.2, random_state=0)\n",
    "X_test"
   ]
  },
  {
   "cell_type": "code",
   "execution_count": 139,
   "id": "4ca319ec-1a73-4f61-bb15-a40eb15fa6ab",
   "metadata": {},
   "outputs": [],
   "source": [
    "poly = PolynomialFeatures(degree=2, include_bias=False)\n",
    "X_train_poly = poly.fit_transform(X_train)\n",
    "X_test_poly = poly.transform(X_test)"
   ]
  },
  {
   "cell_type": "code",
   "execution_count": 140,
   "id": "ce4bec4c-c156-46b1-bc0d-5174e01ca88b",
   "metadata": {},
   "outputs": [],
   "source": [
    "sc = StandardScaler()\n",
    "X_train_std = sc.fit_transform(X_train_poly)\n",
    "X_test_std = sc.transform(X_test_poly)"
   ]
  },
  {
   "cell_type": "code",
   "execution_count": 141,
   "id": "0ab026ad-8279-4a1a-9c9d-d09c66ebf4cc",
   "metadata": {},
   "outputs": [
    {
     "data": {
      "text/plain": [
       "LinearRegression()"
      ]
     },
     "execution_count": 141,
     "metadata": {},
     "output_type": "execute_result"
    }
   ],
   "source": [
    "model.fit(X_train_std, y_train)"
   ]
  },
  {
   "cell_type": "code",
   "execution_count": 142,
   "id": "e217bdaf-e9d7-44b3-981c-0ec31f9c1387",
   "metadata": {},
   "outputs": [
    {
     "data": {
      "text/plain": [
       "Lasso(alpha=0.1)"
      ]
     },
     "execution_count": 142,
     "metadata": {},
     "output_type": "execute_result"
    }
   ],
   "source": [
    "model_l.fit(X_train_std, y_train)"
   ]
  },
  {
   "cell_type": "code",
   "execution_count": 143,
   "id": "f0205a81-5a8e-4d97-9bc5-d4de450a53ae",
   "metadata": {},
   "outputs": [
    {
     "name": "stdout",
     "output_type": "stream",
     "text": [
      "22.611881188118844\n",
      "[-0.          0.          0.          0.         -0.          0.\n",
      "  0.         -0.          0.          0.         -0.          0.\n",
      " -0.          0.          0.24633868 -0.          0.56721098 -0.26764504\n",
      " -0.71696315 -0.         -0.         -0.         -0.         -0.\n",
      " -0.         -0.          0.48958407 -0.46755873  0.11857147  0.\n",
      "  0.00713714  0.          0.          0.         -0.          0.\n",
      "  0.         -0.07437602  0.06232768 -0.         -0.         -0.\n",
      "  0.         -0.11989191  0.43944794  0.          0.          0.\n",
      " -0.          0.         -0.          0.          0.          0.09828279\n",
      "  0.          0.          0.          0.         -0.         -0.\n",
      " -1.21751701 -0.         -0.98619835  0.         -0.         -0.\n",
      "  0.         -0.          5.87856207 -0.         -0.         -0.\n",
      " -0.         -1.92687309  0.         -5.22072694  0.         -0.\n",
      "  0.          0.          0.          0.         -0.         -0.\n",
      "  0.23376925 -0.66826934 -0.         -0.          0.          0.03382795\n",
      "  0.          0.          0.69836008 -0.          0.          0.\n",
      "  0.         -1.93208069  0.          0.         -0.          0.\n",
      " -0.          2.99074868]\n"
     ]
    }
   ],
   "source": [
    "print(model_l.intercept_)\n",
    "print(model_l.coef_)"
   ]
  },
  {
   "cell_type": "code",
   "execution_count": 144,
   "id": "789dec07-e5a9-46c3-af6b-5c062027fa21",
   "metadata": {},
   "outputs": [
    {
     "data": {
      "text/plain": [
       "(4.340278052012233, 31.277814971444794)"
      ]
     },
     "execution_count": 144,
     "metadata": {},
     "output_type": "execute_result"
    }
   ],
   "source": [
    "y_train_pred = model.predict(X_train_std)\n",
    "y_test_pred = model.predict(X_test_std)\n",
    "\n",
    "mean_squared_error(y_train, y_train_pred), mean_squared_error(y_test, y_test_pred)"
   ]
  },
  {
   "cell_type": "code",
   "execution_count": 146,
   "id": "fbdab91d-bd20-4934-9794-28a546bbb11f",
   "metadata": {},
   "outputs": [
    {
     "data": {
      "text/plain": [
       "(11.926158040527103, 23.93928952208267)"
      ]
     },
     "execution_count": 146,
     "metadata": {},
     "output_type": "execute_result"
    }
   ],
   "source": [
    "y_train_l_pred = model_l.predict(X_train_std)\n",
    "y_test_l_pred = model_l.predict(X_test_std)\n",
    "\n",
    "mean_squared_error(y_train, y_train_l_pred), mean_squared_error(y_test, y_test_l_pred)"
   ]
  },
  {
   "cell_type": "code",
   "execution_count": 148,
   "id": "f43d7779-3ba1-4aad-982d-a0ac96c6b520",
   "metadata": {},
   "outputs": [],
   "source": [
    "from sklearn.linear_model import ElasticNet"
   ]
  },
  {
   "cell_type": "code",
   "execution_count": null,
   "id": "b51f593e-122c-440d-9b1b-861d2e5689e5",
   "metadata": {},
   "outputs": [],
   "source": [
    "alpha = 0.1\n",
    "l1_ratio = 0.6"
   ]
  },
  {
   "cell_type": "code",
   "execution_count": 151,
   "id": "67b51ffd-19a9-4067-8008-b817ec6f3b8f",
   "metadata": {},
   "outputs": [
    {
     "data": {
      "text/plain": [
       "(12.155107996643016, 25.058665863264768)"
      ]
     },
     "execution_count": 151,
     "metadata": {},
     "output_type": "execute_result"
    }
   ],
   "source": [
    "model_e = ElasticNet(alpha=0.1, l1_ratio=0.6)\n",
    "model_e.fit(X_train_std, y_train)\n",
    "\n",
    "# print(model_e.coef_)\n",
    "\n",
    "y_train_pred = model_e.predict(X_train_std)\n",
    "y_test_pred = model_e.predict(X_test_std)\n",
    "\n",
    "mean_squared_error(y_train, y_train_pred), mean_squared_error(y_test, y_test_pred)"
   ]
  },
  {
   "cell_type": "code",
   "execution_count": 156,
   "id": "45953eee-e390-4511-814f-5ddde84a7edd",
   "metadata": {},
   "outputs": [
    {
     "name": "stderr",
     "output_type": "stream",
     "text": [
      "/opt/anaconda3/envs/ml-study/lib/python3.9/site-packages/sklearn/linear_model/_coordinate_descent.py:647: ConvergenceWarning: Objective did not converge. You might want to increase the number of iterations, check the scale of the features or consider increasing regularisation. Duality gap: 3.061e+03, tolerance: 3.440e+00 Linear regression models with null weight for the l1 regularization term are more efficiently fitted using one of the solvers implemented in sklearn.linear_model.Ridge/RidgeCV instead.\n",
      "  model = cd_fast.enet_coordinate_descent(\n",
      "/opt/anaconda3/envs/ml-study/lib/python3.9/site-packages/sklearn/linear_model/_coordinate_descent.py:647: ConvergenceWarning: Objective did not converge. You might want to increase the number of iterations, check the scale of the features or consider increasing regularisation. Duality gap: 7.324e+01, tolerance: 3.440e+00\n",
      "  model = cd_fast.enet_coordinate_descent(\n",
      "/opt/anaconda3/envs/ml-study/lib/python3.9/site-packages/sklearn/linear_model/_coordinate_descent.py:647: ConvergenceWarning: Objective did not converge. You might want to increase the number of iterations, check the scale of the features or consider increasing regularisation. Duality gap: 2.515e+01, tolerance: 3.440e+00\n",
      "  model = cd_fast.enet_coordinate_descent(\n",
      "/opt/anaconda3/envs/ml-study/lib/python3.9/site-packages/sklearn/linear_model/_coordinate_descent.py:647: ConvergenceWarning: Objective did not converge. You might want to increase the number of iterations, check the scale of the features or consider increasing regularisation. Duality gap: 8.353e+00, tolerance: 3.440e+00\n",
      "  model = cd_fast.enet_coordinate_descent(\n"
     ]
    },
    {
     "name": "stdout",
     "output_type": "stream",
     "text": [
      "11.97688239818212 25.127603773554096\n",
      "12.03727422457328 25.180122831121604\n",
      "12.07274016708152 25.21092938689579\n",
      "12.111416347770414 25.21212071710163\n",
      "12.163564546372266 25.205902262287278\n",
      "12.174914060981529 25.122014137696016\n",
      "12.155107996643016 25.058665863264768\n",
      "12.112963937228931 24.875990585778926\n",
      "12.043912234832042 24.631625360980703\n",
      "11.999228780834892 24.37795006175644\n",
      "11.926158040527103 23.93928952208267\n"
     ]
    }
   ],
   "source": [
    "# alphaの検証\n",
    "for l1_ratio in range(0, 11):\n",
    "    model_e = ElasticNet(alpha=0.1, l1_ratio=(l1_ratio/10))\n",
    "    model_e.fit(X_train_std, y_train)\n",
    "\n",
    "    # print(model_e.coef_)\n",
    "\n",
    "    y_train_pred = model_e.predict(X_train_std)\n",
    "    y_test_pred = model_e.predict(X_test_std)\n",
    "\n",
    "    print(mean_squared_error(y_train, y_train_pred), mean_squared_error(y_test, y_test_pred))"
   ]
  },
  {
   "cell_type": "code",
   "execution_count": 157,
   "id": "68d7fdb0-b253-4684-b417-8926266f54d0",
   "metadata": {},
   "outputs": [],
   "source": [
    "# 確率的勾配効果法"
   ]
  },
  {
   "cell_type": "code",
   "execution_count": 158,
   "id": "f720ad7e-0c9d-417e-9410-ac25333415b0",
   "metadata": {},
   "outputs": [],
   "source": [
    "from sklearn.linear_model import SGDRegressor"
   ]
  },
  {
   "cell_type": "code",
   "execution_count": 161,
   "id": "a90e5de5-ad7c-41fc-815b-1c45610dc551",
   "metadata": {},
   "outputs": [],
   "source": [
    "from sklearn.datasets import load_boston\n",
    "boston = load_boston()\n",
    "\n",
    "X = boston.data\n",
    "y = boston.target\n",
    "\n",
    "X_train, X_test, y_train, y_test = train_test_split(X, y, test_size=0.2, random_state=0)"
   ]
  },
  {
   "cell_type": "code",
   "execution_count": 162,
   "id": "68c77a6e-5dc5-4a63-b06c-bc9bab326e8b",
   "metadata": {},
   "outputs": [],
   "source": [
    "sc = StandardScaler()\n",
    "X_train_std = sc.fit_transform(X_train)\n",
    "X_test_std = sc.transform(X_test)"
   ]
  },
  {
   "cell_type": "code",
   "execution_count": 163,
   "id": "0bdc938c-8431-4e00-9d0a-b2b792817c2c",
   "metadata": {},
   "outputs": [
    {
     "name": "stderr",
     "output_type": "stream",
     "text": [
      "/opt/anaconda3/envs/ml-study/lib/python3.9/site-packages/sklearn/linear_model/_stochastic_gradient.py:165: FutureWarning: The loss 'squared_loss' was deprecated in v1.0 and will be removed in version 1.2. Use `loss='squared_error'` which is equivalent.\n",
      "  warnings.warn(\n"
     ]
    },
    {
     "data": {
      "text/plain": [
       "SGDRegressor(alpha=1e-09, l1_ratio=0, learning_rate='constant',\n",
       "             loss='squared_loss', max_iter=100, random_state=0)"
      ]
     },
     "execution_count": 163,
     "metadata": {},
     "output_type": "execute_result"
    }
   ],
   "source": [
    "model = SGDRegressor(loss=\"squared_loss\", max_iter=100, eta0=0.01,\n",
    "                     learning_rate=\"constant\", alpha=1e-09, penalty=\"l2\",\n",
    "                     l1_ratio=0, random_state=0)\n",
    "model.fit(X_train_std, y_train)"
   ]
  },
  {
   "cell_type": "code",
   "execution_count": 164,
   "id": "c6542ad1-64b0-4831-98a3-f9d20f3b48ab",
   "metadata": {
    "tags": []
   },
   "outputs": [
    {
     "data": {
      "text/plain": [
       "(19.567080796272577, 34.03660789079716)"
      ]
     },
     "execution_count": 164,
     "metadata": {},
     "output_type": "execute_result"
    }
   ],
   "source": [
    "y_train_pred = model.predict(X_train_std)\n",
    "y_test_pred = model.predict(X_test_std)\n",
    "\n",
    "mean_squared_error(y_train, y_train_pred), mean_squared_error(y_test, y_test_pred)"
   ]
  },
  {
   "cell_type": "code",
   "execution_count": 165,
   "id": "5c0d59da-55ab-490a-83bb-bb62b3f24a48",
   "metadata": {},
   "outputs": [],
   "source": [
    "# 確率的勾配効果法の正則化"
   ]
  },
  {
   "cell_type": "code",
   "execution_count": 176,
   "id": "03c083ed-3d54-4efe-9887-af748b0043b0",
   "metadata": {},
   "outputs": [
    {
     "name": "stderr",
     "output_type": "stream",
     "text": [
      "/opt/anaconda3/envs/ml-study/lib/python3.9/site-packages/sklearn/linear_model/_stochastic_gradient.py:165: FutureWarning: The loss 'squared_loss' was deprecated in v1.0 and will be removed in version 1.2. Use `loss='squared_error'` which is equivalent.\n",
      "  warnings.warn(\n"
     ]
    },
    {
     "data": {
      "text/plain": [
       "SGDRegressor(alpha=0.1, l1_ratio=0, learning_rate='constant',\n",
       "             loss='squared_loss', max_iter=100, random_state=0)"
      ]
     },
     "execution_count": 176,
     "metadata": {},
     "output_type": "execute_result"
    }
   ],
   "source": [
    "model = SGDRegressor(loss=\"squared_loss\", max_iter=100, eta0=0.01,\n",
    "                     learning_rate=\"constant\", alpha=1e-01, penalty=\"l2\",\n",
    "                     l1_ratio=0, random_state=0)\n",
    "model.fit(X_train_std, y_train)"
   ]
  },
  {
   "cell_type": "code",
   "execution_count": 177,
   "id": "8757edf7-da12-4466-8d8a-0d1548268c11",
   "metadata": {
    "tags": []
   },
   "outputs": [
    {
     "data": {
      "text/plain": [
       "(22.460621377109618, 32.0026157117652)"
      ]
     },
     "execution_count": 177,
     "metadata": {},
     "output_type": "execute_result"
    }
   ],
   "source": [
    "y_train_pred = model.predict(X_train_std)\n",
    "y_test_pred = model.predict(X_test_std)\n",
    "\n",
    "mean_squared_error(y_train, y_train_pred), mean_squared_error(y_test, y_test_pred)"
   ]
  },
  {
   "cell_type": "code",
   "execution_count": 178,
   "id": "ad572b2a-664b-4bb5-89ff-a5b9723fbb7e",
   "metadata": {},
   "outputs": [],
   "source": [
    "# SVR"
   ]
  },
  {
   "cell_type": "code",
   "execution_count": 179,
   "id": "0e233b1a-53f4-4c58-b0ae-9373c3b07db6",
   "metadata": {},
   "outputs": [],
   "source": [
    "from sklearn.svm import SVR"
   ]
  },
  {
   "cell_type": "code",
   "execution_count": 180,
   "id": "11cc8769-4e39-4d11-b49d-495d5155dc65",
   "metadata": {},
   "outputs": [],
   "source": [
    "size = 20"
   ]
  },
  {
   "cell_type": "code",
   "execution_count": 181,
   "id": "e54738d8-3735-4955-be95-d971a73aa5a1",
   "metadata": {},
   "outputs": [
    {
     "name": "stderr",
     "output_type": "stream",
     "text": [
      "/opt/anaconda3/envs/ml-study/lib/python3.9/site-packages/sklearn/utils/deprecation.py:87: FutureWarning: Function load_boston is deprecated; `load_boston` is deprecated in 1.0 and will be removed in 1.2.\n",
      "\n",
      "    The Boston housing prices dataset has an ethical problem. You can refer to\n",
      "    the documentation of this function for further details.\n",
      "\n",
      "    The scikit-learn maintainers therefore strongly discourage the use of this\n",
      "    dataset unless the purpose of the code is to study and educate about\n",
      "    ethical issues in data science and machine learning.\n",
      "\n",
      "    In this special case, you can fetch the dataset from the original\n",
      "    source::\n",
      "\n",
      "        import pandas as pd\n",
      "        import numpy as np\n",
      "\n",
      "\n",
      "        data_url = \"http://lib.stat.cmu.edu/datasets/boston\"\n",
      "        raw_df = pd.read_csv(data_url, sep=\"\\s+\", skiprows=22, header=None)\n",
      "        data = np.hstack([raw_df.values[::2, :], raw_df.values[1::2, :2]])\n",
      "        target = raw_df.values[1::2, 2]\n",
      "\n",
      "    Alternative datasets include the California housing dataset (i.e.\n",
      "    :func:`~sklearn.datasets.fetch_california_housing`) and the Ames housing\n",
      "    dataset. You can load the datasets as follows::\n",
      "\n",
      "        from sklearn.datasets import fetch_california_housing\n",
      "        housing = fetch_california_housing()\n",
      "\n",
      "    for the California housing dataset and::\n",
      "\n",
      "        from sklearn.datasets import fetch_openml\n",
      "        housing = fetch_openml(name=\"house_prices\", as_frame=True)\n",
      "\n",
      "    for the Ames housing dataset.\n",
      "    \n",
      "  warnings.warn(msg, category=FutureWarning)\n"
     ]
    }
   ],
   "source": [
    "boston = load_boston()\n",
    "X = boston.data[:size, [5]]\n",
    "y = boston.target[:size]\n",
    "\n",
    "X_train, X_test, y_train, y_test = train_test_split(X, y, test_size=0.2, random_state=2)"
   ]
  },
  {
   "cell_type": "code",
   "execution_count": 182,
   "id": "cd0a6934-3acf-499e-a8b0-6fb319adc9c7",
   "metadata": {},
   "outputs": [],
   "source": [
    "sc = StandardScaler()\n",
    "X_train_std = sc.fit_transform(X_train)\n",
    "X_test_std = sc.transform(X_test)"
   ]
  },
  {
   "cell_type": "code",
   "execution_count": 183,
   "id": "2eabed6d-1db4-4b46-835c-85264cec3429",
   "metadata": {},
   "outputs": [
    {
     "data": {
      "text/plain": [
       "SVR(C=10000.0, epsilon=4.0, kernel='linear')"
      ]
     },
     "execution_count": 183,
     "metadata": {},
     "output_type": "execute_result"
    }
   ],
   "source": [
    "model = LinearRegression()\n",
    "model_s = SVR(kernel=\"linear\", C=10000.0, epsilon=4.0)\n",
    "\n",
    "model.fit(X_train_std, y_train)\n",
    "model_s.fit(X_train_std, y_train)"
   ]
  },
  {
   "cell_type": "code",
   "execution_count": 185,
   "id": "a7cef127-f46a-44c1-a282-0dd6e6b9c00a",
   "metadata": {},
   "outputs": [
    {
     "data": {
      "image/png": "[encoded data removed]",
      "text/plain": [
       "<Figure size 576x288 with 1 Axes>"
      ]
     },
     "metadata": {
      "needs_background": "light"
     },
     "output_type": "display_data"
    }
   ],
   "source": [
    "plt.figure(figsize=(8, 4))\n",
    "\n",
    "X_plt = np.arange(X_train_std.min(), X_train_std.max(), 0.1)[:, np.newaxis]\n",
    "y_plt_pred = model.predict(X_plt)\n",
    "y_plt_pred_s = model_s.predict(X_plt)\n",
    "\n",
    "plt.scatter(X_train_std, y_train, color=\"blue\", label=\"data\")\n",
    "plt.plot(X_plt, y_plt_pred, color=\"lime\", linestyle=\"-\", label=\"LinearRegression\")\n",
    "plt.plot(X_plt, y_plt_pred_s, color=\"red\", linestyle=\"-\", label=\"SVR\")\n",
    "plt.plot(X_plt, y_plt_pred_s+model_s.epsilon, color=\"red\", linestyle=\":\")\n",
    "plt.plot(X_plt, y_plt_pred_s-model_s.epsilon, color=\"red\", linestyle=\":\")\n",
    "\n",
    "plt.ylabel(\"Price in $1000s [MEDV]\")\n",
    "plt.xlabel(\"Average number of rooms [RM]\")\n",
    "plt.title(\"Boston house-prices\")\n",
    "plt.legend(loc=\"lower right\")\n",
    "\n",
    "plt.show()"
   ]
  },
  {
   "cell_type": "code",
   "execution_count": 186,
   "id": "38d98ab0-4479-47be-a7b5-7036c00ebca6",
   "metadata": {},
   "outputs": [
    {
     "data": {
      "text/plain": [
       "array([[ 2.00461579],\n",
       "       [ 0.49545815],\n",
       "       [-0.00273398],\n",
       "       [-0.1874296 ]])"
      ]
     },
     "execution_count": 186,
     "metadata": {},
     "output_type": "execute_result"
    }
   ],
   "source": [
    "model_s.support_vectors_"
   ]
  },
  {
   "cell_type": "code",
   "execution_count": 187,
   "id": "41f1f56f-b5b1-4517-a91f-3223769b64c5",
   "metadata": {},
   "outputs": [
    {
     "data": {
      "text/plain": [
       "array([2, 3, 6, 8], dtype=int32)"
      ]
     },
     "execution_count": 187,
     "metadata": {},
     "output_type": "execute_result"
    }
   ],
   "source": [
    "model_s.support_"
   ]
  },
  {
   "cell_type": "code",
   "execution_count": 189,
   "id": "f4e1dcda-6f63-4c17-94fd-f5f4449800d6",
   "metadata": {},
   "outputs": [
    {
     "data": {
      "text/plain": [
       "(11.72383727119141, 14.938071930509103)"
      ]
     },
     "execution_count": 189,
     "metadata": {},
     "output_type": "execute_result"
    }
   ],
   "source": [
    "y_train_pred = model.predict(X_train_std)\n",
    "y_test_pred = model.predict(X_test_std)\n",
    "\n",
    "mean_squared_error(y_train, y_train_pred), mean_squared_error(y_test, y_test_pred)"
   ]
  },
  {
   "cell_type": "code",
   "execution_count": 190,
   "id": "ffbbc188-3fd1-42ea-b513-0459a4716196",
   "metadata": {},
   "outputs": [
    {
     "data": {
      "text/plain": [
       "(13.711761242727356, 11.641944724194264)"
      ]
     },
     "execution_count": 190,
     "metadata": {},
     "output_type": "execute_result"
    }
   ],
   "source": [
    "y_train_pred = model_s.predict(X_train_std)\n",
    "y_test_pred = model_s.predict(X_test_std)\n",
    "\n",
    "mean_squared_error(y_train, y_train_pred), mean_squared_error(y_test, y_test_pred)"
   ]
  },
  {
   "cell_type": "code",
   "execution_count": 191,
   "id": "eddb5756-a633-44ac-b13d-5ed2e9d0737c",
   "metadata": {},
   "outputs": [],
   "source": [
    "# SVR (linear, params=13)"
   ]
  },
  {
   "cell_type": "code",
   "execution_count": 192,
   "id": "5b23b4bb-bd83-4de3-94d9-b1a87542feff",
   "metadata": {},
   "outputs": [
    {
     "name": "stderr",
     "output_type": "stream",
     "text": [
      "/opt/anaconda3/envs/ml-study/lib/python3.9/site-packages/sklearn/utils/deprecation.py:87: FutureWarning: Function load_boston is deprecated; `load_boston` is deprecated in 1.0 and will be removed in 1.2.\n",
      "\n",
      "    The Boston housing prices dataset has an ethical problem. You can refer to\n",
      "    the documentation of this function for further details.\n",
      "\n",
      "    The scikit-learn maintainers therefore strongly discourage the use of this\n",
      "    dataset unless the purpose of the code is to study and educate about\n",
      "    ethical issues in data science and machine learning.\n",
      "\n",
      "    In this special case, you can fetch the dataset from the original\n",
      "    source::\n",
      "\n",
      "        import pandas as pd\n",
      "        import numpy as np\n",
      "\n",
      "\n",
      "        data_url = \"http://lib.stat.cmu.edu/datasets/boston\"\n",
      "        raw_df = pd.read_csv(data_url, sep=\"\\s+\", skiprows=22, header=None)\n",
      "        data = np.hstack([raw_df.values[::2, :], raw_df.values[1::2, :2]])\n",
      "        target = raw_df.values[1::2, 2]\n",
      "\n",
      "    Alternative datasets include the California housing dataset (i.e.\n",
      "    :func:`~sklearn.datasets.fetch_california_housing`) and the Ames housing\n",
      "    dataset. You can load the datasets as follows::\n",
      "\n",
      "        from sklearn.datasets import fetch_california_housing\n",
      "        housing = fetch_california_housing()\n",
      "\n",
      "    for the California housing dataset and::\n",
      "\n",
      "        from sklearn.datasets import fetch_openml\n",
      "        housing = fetch_openml(name=\"house_prices\", as_frame=True)\n",
      "\n",
      "    for the Ames housing dataset.\n",
      "    \n",
      "  warnings.warn(msg, category=FutureWarning)\n"
     ]
    }
   ],
   "source": [
    "boston = load_boston()\n",
    "X = boston.data\n",
    "y = boston.target\n",
    "\n",
    "X_train, X_test, y_train, y_test = train_test_split(X, y, test_size=0.2, random_state=0)"
   ]
  },
  {
   "cell_type": "code",
   "execution_count": 193,
   "id": "ae28040b-4a1e-4aa0-8e4e-9ed08db91b4d",
   "metadata": {},
   "outputs": [],
   "source": [
    "sc = StandardScaler()\n",
    "X_train_std = sc.fit_transform(X_train)\n",
    "X_test_std = sc.transform(X_test)"
   ]
  },
  {
   "cell_type": "code",
   "execution_count": 194,
   "id": "6abf64aa-0c02-41da-ba2a-e072c82c9e70",
   "metadata": {},
   "outputs": [
    {
     "data": {
      "text/plain": [
       "SVR(C=10.0, epsilon=5.0, kernel='linear')"
      ]
     },
     "execution_count": 194,
     "metadata": {},
     "output_type": "execute_result"
    }
   ],
   "source": [
    "model = SVR(kernel=\"linear\", C=10.0, epsilon=5.0)\n",
    "model.fit(X_train_std, y_train)"
   ]
  },
  {
   "cell_type": "code",
   "execution_count": 195,
   "id": "beed9169-2079-44c2-b3f5-668ea0f5f358",
   "metadata": {},
   "outputs": [
    {
     "data": {
      "text/plain": [
       "(20.27935258834585, 35.83801054071221)"
      ]
     },
     "execution_count": 195,
     "metadata": {},
     "output_type": "execute_result"
    }
   ],
   "source": [
    "y_train_pred = model.predict(X_train_std)\n",
    "y_test_pred = model.predict(X_test_std)\n",
    "mean_squared_error(y_train, y_train_pred), mean_squared_error(y_test, y_test_pred)"
   ]
  },
  {
   "cell_type": "code",
   "execution_count": null,
   "id": "1b06ee15-d19a-4604-a14d-6885aa2f5521",
   "metadata": {},
   "outputs": [],
   "source": []
  }
 ],
 "metadata": {
  "kernelspec": {
   "display_name": "Python 3 (ipykernel)",
   "language": "python",
   "name": "python3"
  },
  "language_info": {
   "codemirror_mode": {
    "name": "ipython",
    "version": 3
   },
   "file_extension": ".py",
   "mimetype": "text/x-python",
   "name": "python",
   "nbconvert_exporter": "python",
   "pygments_lexer": "ipython3",
   "version": "3.9.7"
  }
 },
 "nbformat": 4,
 "nbformat_minor": 5
}
