{
 "cells": [
  {
   "cell_type": "raw",
   "id": "08641f84-2dbc-4436-897a-8e97584a51ae",
   "metadata": {},
   "source": [
    "numpy test"
   ]
  },
  {
   "cell_type": "code",
   "execution_count": 115,
   "id": "562f8d67-e422-423b-ab2a-cc183d6e9b6d",
   "metadata": {},
   "outputs": [],
   "source": [
    "import numpy as np"
   ]
  },
  {
   "cell_type": "code",
   "execution_count": 133,
   "id": "93772bab-183c-49a4-a716-32a70c3cbbc8",
   "metadata": {},
   "outputs": [],
   "source": [
    "a = np.array([\n",
    "    [0.1, 0.2, 0.6],\n",
    "    [0.8, 0.2, 0.0],\n",
    "    [0.1, 0.2, 0.0],\n",
    "])\n",
    "label = np.array([\n",
    "    [1, 0, 1],\n",
    "    [1, 0, 1],\n",
    "    [0, 0, 0],\n",
    "])"
   ]
  },
  {
   "cell_type": "code",
   "execution_count": 134,
   "id": "955ca4c8-33f9-4aed-b552-c3e77b42455f",
   "metadata": {},
   "outputs": [
    {
     "name": "stdout",
     "output_type": "stream",
     "text": [
      "a > 0.5: [[False False  True]\n",
      " [ True False False]\n",
      " [False False False]]\n",
      "a: [[0.1 0.2 0.6]\n",
      " [0.8 0.2 0. ]\n",
      " [0.1 0.2 0. ]]\n",
      "label: [[1 0 1]\n",
      " [1 0 1]\n",
      " [0 0 0]]\n"
     ]
    }
   ],
   "source": [
    "print(f\"a > 0.5: {(a > 0.5)}\")\n",
    "print(f\"a: {a}\")\n",
    "print(f\"label: {label}\")"
   ]
  },
  {
   "cell_type": "code",
   "execution_count": 135,
   "id": "12844a7e-11c8-46d5-956f-c4340f638766",
   "metadata": {},
   "outputs": [
    {
     "data": {
      "text/plain": [
       "array([[False,  True,  True],\n",
       "       [ True,  True, False],\n",
       "       [ True,  True,  True]])"
      ]
     },
     "execution_count": 135,
     "metadata": {},
     "output_type": "execute_result"
    }
   ],
   "source": [
    "(a > 0.5) == label"
   ]
  },
  {
   "cell_type": "code",
   "execution_count": 136,
   "id": "a1b4280a-c2da-4476-a19d-433790134c57",
   "metadata": {},
   "outputs": [
    {
     "data": {
      "text/plain": [
       "array([2, 2, 3])"
      ]
     },
     "execution_count": 136,
     "metadata": {},
     "output_type": "execute_result"
    }
   ],
   "source": [
    "np.sum((a > 0.5) == label, axis=1)"
   ]
  },
  {
   "cell_type": "code",
   "execution_count": 137,
   "id": "7e165c70-b19b-4821-b120-1b4bc15daf88",
   "metadata": {},
   "outputs": [
    {
     "data": {
      "text/plain": [
       "3"
      ]
     },
     "execution_count": 137,
     "metadata": {},
     "output_type": "execute_result"
    }
   ],
   "source": [
    "np.shape(label)[1]"
   ]
  },
  {
   "cell_type": "code",
   "execution_count": 138,
   "id": "bce8c238-dcc1-42e5-805c-36273026b8cc",
   "metadata": {},
   "outputs": [
    {
     "data": {
      "text/plain": [
       "0.7777777777777777"
      ]
     },
     "execution_count": 138,
     "metadata": {},
     "output_type": "execute_result"
    }
   ],
   "source": [
    "np.average(\n",
    "    np.sum((a > 0.5) == label, axis=1) / np.shape(label)[1]\n",
    ")"
   ]
  },
  {
   "cell_type": "code",
   "execution_count": 139,
   "id": "eac6d136-6898-436b-8a9f-62699df2b5a7",
   "metadata": {},
   "outputs": [],
   "source": [
    "import numpy as np\n",
    "from sklearn.metrics import (\n",
    "    label_ranking_average_precision_score, \n",
    "    roc_auc_score, \n",
    "    accuracy_score,\n",
    "    average_precision_score)"
   ]
  },
  {
   "cell_type": "code",
   "execution_count": 140,
   "id": "9a7bcb3b-c4b2-478c-a160-a73ec0fc8565",
   "metadata": {},
   "outputs": [
    {
     "data": {
      "text/plain": [
       "0.3333333333333333"
      ]
     },
     "execution_count": 140,
     "metadata": {},
     "output_type": "execute_result"
    }
   ],
   "source": [
    "accuracy_score(label, a > 0.5)"
   ]
  },
  {
   "cell_type": "code",
   "execution_count": 141,
   "id": "ef4c64b5-87ee-4bea-b719-5ec9afe96ea2",
   "metadata": {},
   "outputs": [
    {
     "name": "stderr",
     "output_type": "stream",
     "text": [
      "/opt/anaconda3/envs/ml-study/lib/python3.9/site-packages/sklearn/metrics/_ranking.py:864: RuntimeWarning: invalid value encountered in true_divide\n",
      "  recall = tps / tps[-1]\n"
     ]
    },
    {
     "data": {
      "text/plain": [
       "nan"
      ]
     },
     "execution_count": 141,
     "metadata": {},
     "output_type": "execute_result"
    }
   ],
   "source": [
    "average_precision_score(label, a)"
   ]
  },
  {
   "cell_type": "code",
   "execution_count": 142,
   "id": "3758e83a-1934-4c51-9434-c53f1ecdefa8",
   "metadata": {},
   "outputs": [],
   "source": [
    "# recall"
   ]
  },
  {
   "cell_type": "code",
   "execution_count": 143,
   "id": "7a705604-ed43-4cdb-9902-7c2705d188e1",
   "metadata": {},
   "outputs": [
    {
     "data": {
      "text/plain": [
       "4"
      ]
     },
     "execution_count": 143,
     "metadata": {},
     "output_type": "execute_result"
    }
   ],
   "source": [
    "np.sum(label)"
   ]
  },
  {
   "cell_type": "code",
   "execution_count": 144,
   "id": "05420844-b177-4047-b598-721c03ba14b2",
   "metadata": {},
   "outputs": [
    {
     "data": {
      "text/plain": [
       "2"
      ]
     },
     "execution_count": 144,
     "metadata": {},
     "output_type": "execute_result"
    }
   ],
   "source": [
    "np.sum((a > 0.5) * label)"
   ]
  },
  {
   "cell_type": "code",
   "execution_count": 145,
   "id": "b60bf615-3808-47ad-8dba-eda033f19476",
   "metadata": {},
   "outputs": [
    {
     "data": {
      "text/plain": [
       "0.5"
      ]
     },
     "execution_count": 145,
     "metadata": {},
     "output_type": "execute_result"
    }
   ],
   "source": [
    "np.average(\n",
    "    np.sum((a > 0.5) * label) / np.sum(label)\n",
    ")"
   ]
  },
  {
   "cell_type": "code",
   "execution_count": null,
   "id": "37c3afb5-3bef-4284-ac9d-583c54f20385",
   "metadata": {},
   "outputs": [],
   "source": []
  }
 ],
 "metadata": {
  "kernelspec": {
   "display_name": "Python 3 (ipykernel)",
   "language": "python",
   "name": "python3"
  },
  "language_info": {
   "codemirror_mode": {
    "name": "ipython",
    "version": 3
   },
   "file_extension": ".py",
   "mimetype": "text/x-python",
   "name": "python",
   "nbconvert_exporter": "python",
   "pygments_lexer": "ipython3",
   "version": "3.9.9"
  }
 },
 "nbformat": 4,
 "nbformat_minor": 5
}
